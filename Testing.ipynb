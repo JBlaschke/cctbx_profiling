{
 "cells": [
  {
   "cell_type": "code",
   "execution_count": 1,
   "metadata": {},
   "outputs": [],
   "source": [
    "import sys\n",
    "import numpy as np\n",
    "\n",
    "from debug import parser"
   ]
  },
  {
   "cell_type": "code",
   "execution_count": 19,
   "metadata": {},
   "outputs": [
    {
     "name": "stdout",
     "output_type": "stream",
     "text": [
      "Populating the interactive namespace from numpy and matplotlib\n"
     ]
    }
   ],
   "source": [
    "%pylab inline"
   ]
  },
  {
   "cell_type": "code",
   "execution_count": 2,
   "metadata": {},
   "outputs": [],
   "source": [
    "par = parser.EventParser(\"../debug-data/debug_cori\", \"debug_345.txt\")"
   ]
  },
  {
   "cell_type": "code",
   "execution_count": 3,
   "metadata": {},
   "outputs": [],
   "source": [
    "es = par.parse()"
   ]
  },
  {
   "cell_type": "code",
   "execution_count": 4,
   "metadata": {},
   "outputs": [
    {
     "data": {
      "text/plain": [
       "Events on 345: [\n",
       "Event(1586929510.369, 1586929534.684)\n",
       "  +-> spotfind_start = 1586929520.377\n",
       "  +-> index_start = 1586929521.097\n",
       "  +-> hostname = nid02610\n",
       "  +-> psanats = 1970-01-01T00:00Z00.000\n",
       "  +-> status = stop\n",
       "  +-> is locked = True\n",
       "Event(1586929537.292, 1586929564.916)\n",
       "  +-> spotfind_start = 1586929547.245\n",
       "  +-> index_start = 1586929547.589\n",
       "  +-> refine_start = 1586929564.248\n",
       "  +-> integrate_start = 1586929564.251\n",
       "  +-> hostname = nid02610\n",
       "  +-> psanats = 1970-01-01T00:00Z00.000\n",
       "  +-> status = done\n",
       "  +-> is locked = True\n",
       "Event(1586929567.428, 1586929594.498)\n",
       "  +-> spotfind_start = 1586929577.6\n",
       "  +-> index_start = 1586929577.918\n",
       "  +-> refine_start = 1586929593.905\n",
       "  +-> integrate_start = 1586929593.908\n",
       "  +-> hostname = nid02610\n",
       "  +-> psanats = 1970-01-01T00:00Z00.000\n",
       "  +-> status = done\n",
       "  +-> is locked = True\n",
       "Event(1586929597.103, 1586929624.117)\n",
       "  +-> spotfind_start = 1586929607.274\n",
       "  +-> index_start = 1586929607.544\n",
       "  +-> refine_start = 1586929623.507\n",
       "  +-> integrate_start = 1586929623.51\n",
       "  +-> hostname = nid02610\n",
       "  +-> psanats = 1970-01-01T00:00Z00.000\n",
       "  +-> status = done\n",
       "  +-> is locked = True\n",
       "Event(1586929626.912, 1586929653.208)\n",
       "  +-> spotfind_start = 1586929637.17\n",
       "  +-> index_start = 1586929637.451\n",
       "  +-> refine_start = 1586929652.718\n",
       "  +-> integrate_start = 1586929652.721\n",
       "  +-> hostname = nid02610\n",
       "  +-> psanats = 1970-01-01T00:00Z00.000\n",
       "  +-> status = done\n",
       "  +-> is locked = True\n",
       "Event(1586929655.902, 1586929683.085)\n",
       "  +-> spotfind_start = 1586929666.076\n",
       "  +-> index_start = 1586929666.347\n",
       "  +-> refine_start = 1586929682.541\n",
       "  +-> integrate_start = 1586929682.545\n",
       "  +-> hostname = nid02610\n",
       "  +-> psanats = 1970-01-01T00:00Z00.000\n",
       "  +-> status = done\n",
       "  +-> is locked = True\n",
       "Event(1586929685.892, 1586929712.187)\n",
       "  +-> spotfind_start = 1586929696.157\n",
       "  +-> index_start = 1586929697.146\n",
       "  +-> refine_start = 1586929711.687\n",
       "  +-> integrate_start = 1586929711.69\n",
       "  +-> hostname = nid02610\n",
       "  +-> psanats = 1970-01-01T00:00Z00.000\n",
       "  +-> status = done\n",
       "  +-> is locked = True\n",
       "Event(1586929790.57, 1586929824.427)\n",
       "  +-> spotfind_start = 1586929800.592\n",
       "  +-> index_start = 1586929800.896\n",
       "  +-> refine_start = 1586929823.955\n",
       "  +-> integrate_start = 1586929823.958\n",
       "  +-> hostname = nid02610\n",
       "  +-> psanats = 1970-01-01T00:00Z00.000\n",
       "  +-> status = done\n",
       "  +-> is locked = True\n",
       "Event(1586929961.267, 1586929991.724)\n",
       "  +-> spotfind_start = 1586929971.779\n",
       "  +-> index_start = 1586929972.049\n",
       "  +-> refine_start = 1586929989.942\n",
       "  +-> integrate_start = 1586929990.828\n",
       "  +-> hostname = nid02610\n",
       "  +-> psanats = 1970-01-01T00:00Z00.000\n",
       "  +-> status = done\n",
       "  +-> is locked = True]\n",
       "|=> First Event:\n",
       "Event(1586929510.369, 1586929534.684)\n",
       "  +-> spotfind_start = 1586929520.377\n",
       "  +-> index_start = 1586929521.097\n",
       "  +-> hostname = nid02610\n",
       "  +-> psanats = 1970-01-01T00:00Z00.000\n",
       "  +-> status = stop\n",
       "  +-> is locked = True"
      ]
     },
     "execution_count": 4,
     "metadata": {},
     "output_type": "execute_result"
    }
   ],
   "source": [
    "es"
   ]
  },
  {
   "cell_type": "code",
   "execution_count": 5,
   "metadata": {},
   "outputs": [],
   "source": [
    "ev = es[2]"
   ]
  },
  {
   "cell_type": "code",
   "execution_count": 6,
   "metadata": {},
   "outputs": [
    {
     "data": {
      "text/plain": [
       "Event(1586929567.428, 1586929594.498)\n",
       "  +-> spotfind_start = 1586929577.6\n",
       "  +-> index_start = 1586929577.918\n",
       "  +-> refine_start = 1586929593.905\n",
       "  +-> integrate_start = 1586929593.908\n",
       "  +-> hostname = nid02610\n",
       "  +-> psanats = 1970-01-01T00:00Z00.000\n",
       "  +-> status = done\n",
       "  +-> is locked = True"
      ]
     },
     "execution_count": 6,
     "metadata": {},
     "output_type": "execute_result"
    }
   ],
   "source": [
    "ev"
   ]
  },
  {
   "cell_type": "code",
   "execution_count": 7,
   "metadata": {},
   "outputs": [
    {
     "data": {
      "text/plain": [
       "['spotfind_start', 'index_start', 'refine_start', 'integrate_start']"
      ]
     },
     "execution_count": 7,
     "metadata": {},
     "output_type": "execute_result"
    }
   ],
   "source": [
    "ev.event_order"
   ]
  },
  {
   "cell_type": "code",
   "execution_count": 8,
   "metadata": {},
   "outputs": [
    {
     "data": {
      "text/plain": [
       "[10.17199993133545, 10.490000009536743, 26.47699999809265, 26.480000019073486]"
      ]
     },
     "execution_count": 8,
     "metadata": {},
     "output_type": "execute_result"
    }
   ],
   "source": [
    "ev.event_offsets"
   ]
  },
  {
   "cell_type": "code",
   "execution_count": 9,
   "metadata": {},
   "outputs": [],
   "source": [
    "a = [1, 2, 3, 4]"
   ]
  },
  {
   "cell_type": "code",
   "execution_count": 10,
   "metadata": {},
   "outputs": [
    {
     "data": {
      "text/plain": [
       "[2, 3]"
      ]
     },
     "execution_count": 10,
     "metadata": {},
     "output_type": "execute_result"
    }
   ],
   "source": [
    "a[1:-1]"
   ]
  },
  {
   "cell_type": "code",
   "execution_count": 11,
   "metadata": {},
   "outputs": [
    {
     "data": {
      "text/plain": [
       "9"
      ]
     },
     "execution_count": 11,
     "metadata": {},
     "output_type": "execute_result"
    }
   ],
   "source": [
    "len(es)"
   ]
  },
  {
   "cell_type": "code",
   "execution_count": 12,
   "metadata": {},
   "outputs": [],
   "source": [
    "debug_parser = parser.DebugParser(\"../debug-data/debug_cori\")"
   ]
  },
  {
   "cell_type": "code",
   "execution_count": 13,
   "metadata": {},
   "outputs": [
    {
     "name": "stdout",
     "output_type": "stream",
     "text": [
      "Skipping: EventParser(../debug-data/debug_cori, run.json | False)\n"
     ]
    }
   ],
   "source": [
    "ds = debug_parser.parse()"
   ]
  },
  {
   "cell_type": "code",
   "execution_count": 14,
   "metadata": {},
   "outputs": [
    {
     "data": {
      "text/plain": [
       "DirectoryStream(../debug-data/debug_cori):\n",
       " +-> containing 65822 EventStreams\n",
       " |=> first Event:Event(1586929509.971, 1586929535.992)\n",
       "  +-> spotfind_start = 1586929519.924\n",
       "  +-> index_start = 1586929520.667\n",
       "  +-> refine_start = 1586929535.314\n",
       "  +-> integrate_start = 1586929535.318\n",
       "  +-> hostname = nid02612\n",
       "  +-> psanats = 1970-01-01T00:00Z00.000\n",
       "  +-> status = done\n",
       "  +-> is locked = True"
      ]
     },
     "execution_count": 14,
     "metadata": {},
     "output_type": "execute_result"
    }
   ],
   "source": [
    "ds"
   ]
  },
  {
   "cell_type": "code",
   "execution_count": 15,
   "metadata": {},
   "outputs": [],
   "source": [
    "ds.compute_stats()"
   ]
  },
  {
   "cell_type": "code",
   "execution_count": 22,
   "metadata": {},
   "outputs": [],
   "source": [
    "gdiff_pdf, gdiff_bins = np.histogram(ds.good_diff, bins=100, density=True)\n",
    "gdur_pdf,  gdur_bins  = np.histogram(ds.good_duration, bins=100, density=True)"
   ]
  },
  {
   "cell_type": "code",
   "execution_count": 23,
   "metadata": {},
   "outputs": [
    {
     "data": {
      "text/plain": [
       "[<matplotlib.lines.Line2D at 0x1258232d0>]"
      ]
     },
     "execution_count": 23,
     "metadata": {},
     "output_type": "execute_result"
    },
    {
     "data": {
      "image/png": "[encoded data removed]",
      "text/plain": [
       "<Figure size 432x288 with 1 Axes>"
      ]
     },
     "metadata": {
      "needs_background": "light"
     },
     "output_type": "display_data"
    }
   ],
   "source": [
    "plot(gdiff_bins[:-1] + diff(gdiff_bins), gdiff_pdf)\n",
    "plot(gdur_bins[:-1]  + diff(gdur_bins),  gdur_pdf)"
   ]
  },
  {
   "cell_type": "code",
   "execution_count": 24,
   "metadata": {},
   "outputs": [],
   "source": [
    "fdiff_pdf, fdiff_bins = np.histogram(ds.failed_diff, bins=100, density=True)\n",
    "fdur_pdf,  fdur_bins  = np.histogram(ds.failed_duration, bins=100, density=True)"
   ]
  },
  {
   "cell_type": "code",
   "execution_count": 25,
   "metadata": {},
   "outputs": [
    {
     "data": {
      "text/plain": [
       "[<matplotlib.lines.Line2D at 0x122496550>]"
      ]
     },
     "execution_count": 25,
     "metadata": {},
     "output_type": "execute_result"
    },
    {
     "data": {
      "image/png": "[encoded data removed]",
      "text/plain": [
       "<Figure size 432x288 with 1 Axes>"
      ]
     },
     "metadata": {
      "needs_background": "light"
     },
     "output_type": "display_data"
    }
   ],
   "source": [
    "plot(fdiff_bins[:-1] + diff(fdiff_bins), fdiff_pdf)\n",
    "plot(fdur_bins[:-1]  + diff(fdur_bins),  fdur_pdf)"
   ]
  },
  {
   "cell_type": "code",
   "execution_count": 26,
   "metadata": {},
   "outputs": [
    {
     "data": {
      "text/plain": [
       "Event(1586929567.428, 1586929594.498)\n",
       "  +-> spotfind_start = 1586929577.6\n",
       "  +-> index_start = 1586929577.918\n",
       "  +-> refine_start = 1586929593.905\n",
       "  +-> integrate_start = 1586929593.908\n",
       "  +-> hostname = nid02610\n",
       "  +-> psanats = 1970-01-01T00:00Z00.000\n",
       "  +-> status = done\n",
       "  +-> is locked = True"
      ]
     },
     "execution_count": 26,
     "metadata": {},
     "output_type": "execute_result"
    }
   ],
   "source": [
    "ev"
   ]
  },
  {
   "cell_type": "code",
   "execution_count": 31,
   "metadata": {},
   "outputs": [
    {
     "data": {
      "text/plain": [
       "[10.17199993133545, 10.490000009536743, 26.47699999809265, 26.480000019073486]"
      ]
     },
     "execution_count": 31,
     "metadata": {},
     "output_type": "execute_result"
    }
   ],
   "source": [
    "ev.event_offsets"
   ]
  },
  {
   "cell_type": "code",
   "execution_count": 48,
   "metadata": {},
   "outputs": [],
   "source": [
    "goffset_1 = list()\n",
    "goffset_2 = list()\n",
    "goffset_3 = list()\n",
    "foffset_1 = list()\n",
    "gcompute  = list()\n",
    "isgood   = lambda x: x.status == \"done\"\n",
    "\n",
    "for es in ds.event_streams:\n",
    "    for ev in es:\n",
    "        if isgood(ev):\n",
    "            goffset_1.append(ev.event_offsets[0])\n",
    "            goffset_2.append(ev.event_offsets[1])\n",
    "            goffset_3.append(ev.event_offsets[2])\n",
    "            gcompute.append(ev.event_offsets[-1] - ev.event_offsets[0])\n",
    "        else:\n",
    "            foffset_1.append(ev.event_offsets[0])"
   ]
  },
  {
   "cell_type": "code",
   "execution_count": 49,
   "metadata": {},
   "outputs": [],
   "source": [
    "goffset_1_pdf, goffset_1_bins  = np.histogram(goffset_1, bins=100, density=True)\n",
    "goffset_2_pdf, goffset_2_bins  = np.histogram(goffset_2, bins=100, density=True)\n",
    "goffset_3_pdf, goffset_3_bins  = np.histogram(goffset_3, bins=100, density=True)\n",
    "foffset_1_pdf, foffset_1_bins  = np.histogram(foffset_1, bins=100, density=True)\n",
    "gcompute_pdf,  gcompute_1_bins = np.histogram(gcompute,  bins=100, density=True)"
   ]
  },
  {
   "cell_type": "code",
   "execution_count": 52,
   "metadata": {},
   "outputs": [
    {
     "data": {
      "text/plain": [
       "[<matplotlib.lines.Line2D at 0x126498590>]"
      ]
     },
     "execution_count": 52,
     "metadata": {},
     "output_type": "execute_result"
    },
    {
     "data": {
      "image/png": "[encoded data removed]",
      "text/plain": [
       "<Figure size 432x288 with 1 Axes>"
      ]
     },
     "metadata": {
      "needs_background": "light"
     },
     "output_type": "display_data"
    }
   ],
   "source": [
    "plot(goffset_1_bins[:-1]  + diff(goffset_1_bins),  goffset_1_pdf)\n",
    "plot(goffset_2_bins[:-1]  + diff(goffset_2_bins),  goffset_2_pdf)\n",
    "plot(goffset_3_bins[:-1]  + diff(goffset_3_bins),  goffset_3_pdf)\n",
    "plot(gcompute_1_bins[:-1] + diff(gcompute_1_bins), gcompute_pdf)"
   ]
  },
  {
   "cell_type": "code",
   "execution_count": 62,
   "metadata": {},
   "outputs": [
    {
     "data": {
      "text/plain": [
       "[<matplotlib.lines.Line2D at 0x128665b50>]"
      ]
     },
     "execution_count": 62,
     "metadata": {},
     "output_type": "execute_result"
    },
    {
     "data": {
      "image/png": "[encoded data removed]",
      "text/plain": [
       "<Figure size 432x288 with 1 Axes>"
      ]
     },
     "metadata": {
      "needs_background": "light"
     },
     "output_type": "display_data"
    }
   ],
   "source": [
    "plot(goffset_1_bins[:-1]  + diff(goffset_1_bins),  goffset_1_pdf)"
   ]
  },
  {
   "cell_type": "code",
   "execution_count": 63,
   "metadata": {},
   "outputs": [
    {
     "data": {
      "text/plain": [
       "[<matplotlib.lines.Line2D at 0x128726ad0>]"
      ]
     },
     "execution_count": 63,
     "metadata": {},
     "output_type": "execute_result"
    },
    {
     "data": {
      "image/png": "[encoded data removed]",
      "text/plain": [
       "<Figure size 432x288 with 1 Axes>"
      ]
     },
     "metadata": {
      "needs_background": "light"
     },
     "output_type": "display_data"
    }
   ],
   "source": [
    "plot(goffset_2_bins[:-1]  + diff(goffset_2_bins),  goffset_2_pdf)"
   ]
  },
  {
   "cell_type": "code",
   "execution_count": 56,
   "metadata": {},
   "outputs": [
    {
     "data": {
      "text/plain": [
       "[<matplotlib.lines.Line2D at 0x1274ecb90>]"
      ]
     },
     "execution_count": 56,
     "metadata": {},
     "output_type": "execute_result"
    },
    {
     "data": {
      "image/png": "[encoded data removed]",
      "text/plain": [
       "<Figure size 432x288 with 1 Axes>"
      ]
     },
     "metadata": {
      "needs_background": "light"
     },
     "output_type": "display_data"
    }
   ],
   "source": [
    "plot(goffset_3_bins[:-1]  + diff(goffset_3_bins),  goffset_3_pdf)"
   ]
  },
  {
   "cell_type": "code",
   "execution_count": 57,
   "metadata": {},
   "outputs": [
    {
     "data": {
      "text/plain": [
       "[<matplotlib.lines.Line2D at 0x1275c32d0>]"
      ]
     },
     "execution_count": 57,
     "metadata": {},
     "output_type": "execute_result"
    },
    {
     "data": {
      "image/png": "[encoded data removed]",
      "text/plain": [
       "<Figure size 432x288 with 1 Axes>"
      ]
     },
     "metadata": {
      "needs_background": "light"
     },
     "output_type": "display_data"
    }
   ],
   "source": [
    "plot(foffset_1_bins[:-1]  + diff(foffset_1_bins),  foffset_1_pdf)"
   ]
  },
  {
   "cell_type": "code",
   "execution_count": null,
   "metadata": {},
   "outputs": [],
   "source": []
  }
 ],
 "metadata": {
  "kernelspec": {
   "display_name": "Python 3",
   "language": "python",
   "name": "python3"
  },
  "language_info": {
   "codemirror_mode": {
    "name": "ipython",
    "version": 3
   },
   "file_extension": ".py",
   "mimetype": "text/x-python",
   "name": "python",
   "nbconvert_exporter": "python",
   "pygments_lexer": "ipython3",
   "version": "3.7.7"
  }
 },
 "nbformat": 4,
 "nbformat_minor": 4
}
